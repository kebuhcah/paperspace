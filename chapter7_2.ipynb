{
 "cells": [
  {
   "cell_type": "code",
   "execution_count": 4,
   "metadata": {},
   "outputs": [
    {
     "name": "stdout",
     "output_type": "stream",
     "text": [
      "Model: \"sequential\"\n",
      "_________________________________________________________________\n",
      "Layer (type)                 Output Shape              Param #   \n",
      "=================================================================\n",
      "embed (Embedding)            (None, 500, 128)          256000    \n",
      "_________________________________________________________________\n",
      "conv1d (Conv1D)              (None, 494, 32)           28704     \n",
      "_________________________________________________________________\n",
      "max_pooling1d (MaxPooling1D) (None, 98, 32)            0         \n",
      "_________________________________________________________________\n",
      "conv1d_1 (Conv1D)            (None, 92, 32)            7200      \n",
      "_________________________________________________________________\n",
      "global_max_pooling1d (Global (None, 32)                0         \n",
      "_________________________________________________________________\n",
      "dense (Dense)                (None, 1)                 33        \n",
      "=================================================================\n",
      "Total params: 291,937\n",
      "Trainable params: 291,937\n",
      "Non-trainable params: 0\n",
      "_________________________________________________________________\n"
     ]
    }
   ],
   "source": [
    "import tensorflow.keras\n",
    "from tensorflow.keras import layers\n",
    "from tensorflow.keras.datasets import imdb\n",
    "from tensorflow.keras.preprocessing import sequence\n",
    "\n",
    "max_features = 2000\n",
    "max_len = 500\n",
    "\n",
    "(x_train, y_train), (x_test, y_test) = imdb.load_data(num_words=max_features)\n",
    "x_train = sequence.pad_sequences(x_train, maxlen=max_len)\n",
    "x_test = sequence.pad_sequences(x_test, maxlen=max_len)\n",
    "\n",
    "model = tensorflow.keras.models.Sequential()\n",
    "model.add(layers.Embedding(max_features, 128, input_length=max_len, name='embed'))\n",
    "model.add(layers.Conv1D(32, 7, activation='relu'))\n",
    "model.add(layers.MaxPooling1D(5))\n",
    "model.add(layers.Conv1D(32, 7, activation='relu'))\n",
    "model.add(layers.GlobalMaxPooling1D())\n",
    "model.add(layers.Dense(1))\n",
    "\n",
    "model.summary()\n",
    "model.compile(optimizer='rmsprop', loss='binary_crossentropy', metrics=['acc'])"
   ]
  },
  {
   "cell_type": "code",
   "execution_count": 6,
   "metadata": {},
   "outputs": [
    {
     "name": "stdout",
     "output_type": "stream",
     "text": [
      "Epoch 1/20\n",
      "157/157 [==============================] - 12s 34ms/step - loss: 0.7210 - acc: 0.5661 - val_loss: 0.4766 - val_acc: 0.8102\n",
      "Epoch 2/20\n",
      "157/157 [==============================] - 4s 28ms/step - loss: 0.4273 - acc: 0.8479 - val_loss: 0.4746 - val_acc: 0.8496\n",
      "Epoch 3/20\n",
      "157/157 [==============================] - 4s 28ms/step - loss: 0.3178 - acc: 0.8900 - val_loss: 0.4542 - val_acc: 0.8642\n",
      "Epoch 4/20\n",
      "157/157 [==============================] - 5s 29ms/step - loss: 0.3079 - acc: 0.9075 - val_loss: 0.4915 - val_acc: 0.8684\n",
      "Epoch 5/20\n",
      "157/157 [==============================] - 4s 28ms/step - loss: 0.2888 - acc: 0.9217 - val_loss: 0.4967 - val_acc: 0.8698\n",
      "Epoch 6/20\n",
      "157/157 [==============================] - 4s 28ms/step - loss: 0.2062 - acc: 0.9508 - val_loss: 0.5958 - val_acc: 0.8694\n",
      "Epoch 7/20\n",
      "157/157 [==============================] - 4s 28ms/step - loss: 0.2170 - acc: 0.9510 - val_loss: 1.0838 - val_acc: 0.8218\n",
      "Epoch 8/20\n",
      "157/157 [==============================] - 5s 30ms/step - loss: 0.1651 - acc: 0.9678 - val_loss: 0.7439 - val_acc: 0.8654\n",
      "Epoch 9/20\n",
      "157/157 [==============================] - 4s 29ms/step - loss: 0.1364 - acc: 0.9800 - val_loss: 0.8325 - val_acc: 0.8604\n",
      "Epoch 10/20\n",
      "157/157 [==============================] - 4s 28ms/step - loss: 0.1217 - acc: 0.9864 - val_loss: 1.0810 - val_acc: 0.8476\n",
      "Epoch 11/20\n",
      "157/157 [==============================] - 4s 28ms/step - loss: 0.1035 - acc: 0.9895 - val_loss: 0.9759 - val_acc: 0.8670\n",
      "Epoch 12/20\n",
      "157/157 [==============================] - 4s 28ms/step - loss: 0.0864 - acc: 0.9916 - val_loss: 0.9714 - val_acc: 0.8662\n",
      "Epoch 13/20\n",
      "157/157 [==============================] - 4s 28ms/step - loss: 0.0910 - acc: 0.9909 - val_loss: 1.0500 - val_acc: 0.8674\n",
      "Epoch 14/20\n",
      "157/157 [==============================] - 4s 28ms/step - loss: 0.0885 - acc: 0.9906 - val_loss: 1.0961 - val_acc: 0.8680\n",
      "Epoch 15/20\n",
      "157/157 [==============================] - 4s 28ms/step - loss: 0.0972 - acc: 0.9918 - val_loss: 1.0776 - val_acc: 0.8654\n",
      "Epoch 16/20\n",
      "157/157 [==============================] - 4s 28ms/step - loss: 0.0857 - acc: 0.9928 - val_loss: 1.1703 - val_acc: 0.8638\n",
      "Epoch 17/20\n",
      "157/157 [==============================] - 4s 28ms/step - loss: 0.0775 - acc: 0.9933 - val_loss: 1.1857 - val_acc: 0.8634\n",
      "Epoch 18/20\n",
      "157/157 [==============================] - 4s 28ms/step - loss: 0.0908 - acc: 0.9924 - val_loss: 2.3622 - val_acc: 0.7722\n",
      "Epoch 19/20\n",
      "157/157 [==============================] - 4s 28ms/step - loss: 0.1141 - acc: 0.9870 - val_loss: 1.1900 - val_acc: 0.8602\n",
      "Epoch 20/20\n",
      "157/157 [==============================] - 4s 28ms/step - loss: 0.0766 - acc: 0.9931 - val_loss: 1.2404 - val_acc: 0.8656\n"
     ]
    }
   ],
   "source": [
    "callbacks = [\n",
    "    tensorflow.keras.callbacks.TensorBoard(log_dir='/root/my_log_dir', histogram_freq=1, embeddings_freq=1)\n",
    "]\n",
    "\n",
    "history = model.fit(x_train, y_train, epochs=20, batch_size=128, validation_split=0.2, callbacks=callbacks)"
   ]
  },
  {
   "cell_type": "code",
   "execution_count": 7,
   "metadata": {},
   "outputs": [
    {
     "name": "stdout",
     "output_type": "stream",
     "text": [
      "('Failed to import pydot. You must `pip install pydot` and install graphviz (https://graphviz.gitlab.io/download/), ', 'for `pydotprint` to work.')\n"
     ]
    }
   ],
   "source": [
    "from tensorflow.keras.utils import plot_model\n",
    "\n",
    "plot_model(model, to_file='model.png')"
   ]
  }
 ],
 "metadata": {
  "kernelspec": {
   "display_name": "Python 3",
   "language": "python",
   "name": "python3"
  },
  "language_info": {
   "codemirror_mode": {
    "name": "ipython",
    "version": 3
   },
   "file_extension": ".py",
   "mimetype": "text/x-python",
   "name": "python",
   "nbconvert_exporter": "python",
   "pygments_lexer": "ipython3",
   "version": "3.6.9"
  }
 },
 "nbformat": 4,
 "nbformat_minor": 2
}
