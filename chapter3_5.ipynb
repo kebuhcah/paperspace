{
 "cells": [
  {
   "cell_type": "code",
   "execution_count": 2,
   "metadata": {},
   "outputs": [
    {
     "name": "stdout",
     "output_type": "stream",
     "text": [
      "Downloading data from https://storage.googleapis.com/tensorflow/tf-keras-datasets/reuters.npz\n",
      "2113536/2110848 [==============================] - 1s 0us/step\n"
     ]
    },
    {
     "name": "stderr",
     "output_type": "stream",
     "text": [
      "/usr/local/lib/python3.6/dist-packages/tensorflow/python/keras/datasets/reuters.py:148: VisibleDeprecationWarning: Creating an ndarray from ragged nested sequences (which is a list-or-tuple of lists-or-tuples-or ndarrays with different lengths or shapes) is deprecated. If you meant to do this, you must specify 'dtype=object' when creating the ndarray\n",
      "  x_train, y_train = np.array(xs[:idx]), np.array(labels[:idx])\n",
      "/usr/local/lib/python3.6/dist-packages/tensorflow/python/keras/datasets/reuters.py:149: VisibleDeprecationWarning: Creating an ndarray from ragged nested sequences (which is a list-or-tuple of lists-or-tuples-or ndarrays with different lengths or shapes) is deprecated. If you meant to do this, you must specify 'dtype=object' when creating the ndarray\n",
      "  x_test, y_test = np.array(xs[idx:]), np.array(labels[idx:])\n"
     ]
    }
   ],
   "source": [
    "from tensorflow.keras.datasets import reuters\n",
    "\n",
    "(train_data, train_labels), (test_data, test_labels) = reuters.load_data(num_words=10000)"
   ]
  },
  {
   "cell_type": "code",
   "execution_count": 19,
   "metadata": {},
   "outputs": [
    {
     "name": "stdout",
     "output_type": "stream",
     "text": [
      "8982\n",
      "2246\n"
     ]
    }
   ],
   "source": [
    "print(len(train_data))\n",
    "print(len(test_data))\n"
   ]
  },
  {
   "cell_type": "code",
   "execution_count": 8,
   "metadata": {},
   "outputs": [
    {
     "data": {
      "text/plain": [
       "'? generale de banque sa lt ? br and lt heller overseas corp of chicago have each taken 50 pct stakes in ? company sa ? factors generale de banque said in a statement it gave no financial details of the transaction sa ? ? turnover in 1986 was 17 5 billion belgian francs reuter 3'"
      ]
     },
     "execution_count": 8,
     "metadata": {},
     "output_type": "execute_result"
    }
   ],
   "source": [
    "word_index = reuters.get_word_index()\n",
    "reverse_word_index = dict([(value, key) for (key, value) in word_index.items()])\n",
    "\n",
    "decoded_newswire = ' '.join([reverse_word_index.get(i - 3, '?') for i in train_data[1]])\n",
    "\n",
    "decoded_newswire"
   ]
  },
  {
   "cell_type": "code",
   "execution_count": 10,
   "metadata": {},
   "outputs": [],
   "source": [
    "import numpy as np\n",
    "\n",
    "def vectorize_sequences(sequences, dimension=10000):\n",
    "    results = np.zeros((len(sequences), dimension))\n",
    "    for i, sequence in enumerate(sequences):\n",
    "        results[i, sequence] = 1.\n",
    "    return results\n",
    "\n",
    "x_train = vectorize_sequences(train_data)\n",
    "x_test = vectorize_sequences(test_data)"
   ]
  },
  {
   "cell_type": "code",
   "execution_count": 13,
   "metadata": {},
   "outputs": [],
   "source": [
    "from tensorflow.keras.utils import to_categorical\n",
    "\n",
    "one_hot_train_labels = to_categorical(train_labels)\n",
    "one_hot_test_labels = to_categorical(test_labels)\n",
    "\n",
    "x_val = x_train[:1000]\n",
    "partial_x_train = x_train[1000:]\n",
    "\n",
    "y_val = one_hot_train_labels[:1000]\n",
    "partial_y_train = one_hot_train_labels[1000:]"
   ]
  },
  {
   "cell_type": "code",
   "execution_count": 48,
   "metadata": {},
   "outputs": [],
   "source": [
    "from tensorflow.keras import models\n",
    "from tensorflow.keras import layers\n",
    "\n",
    "model = models.Sequential()\n",
    "model.add(layers.Dense(64, activation='relu', input_shape=(10000,)))\n",
    "model.add(layers.Dense(64, activation='relu'))\n",
    "model.add(layers.Dense(64, activation='relu'))\n",
    "model.add(layers.Dense(46, activation='softmax'))\n",
    "\n",
    "model.compile(optimizer='rmsprop', loss='categorical_crossentropy', metrics=['accuracy'])"
   ]
  },
  {
   "cell_type": "code",
   "execution_count": 49,
   "metadata": {},
   "outputs": [
    {
     "name": "stdout",
     "output_type": "stream",
     "text": [
      "Epoch 1/20\n",
      "16/16 [==============================] - 1s 24ms/step - loss: 3.0735 - accuracy: 0.4054 - val_loss: 1.6559 - val_accuracy: 0.6180\n",
      "Epoch 2/20\n",
      "16/16 [==============================] - 0s 11ms/step - loss: 1.4701 - accuracy: 0.6816 - val_loss: 1.3155 - val_accuracy: 0.7020\n",
      "Epoch 3/20\n",
      "16/16 [==============================] - 0s 11ms/step - loss: 1.1039 - accuracy: 0.7523 - val_loss: 1.1557 - val_accuracy: 0.7450\n",
      "Epoch 4/20\n",
      "16/16 [==============================] - 0s 11ms/step - loss: 0.8408 - accuracy: 0.8117 - val_loss: 1.2012 - val_accuracy: 0.7130\n",
      "Epoch 5/20\n",
      "16/16 [==============================] - 0s 11ms/step - loss: 0.6830 - accuracy: 0.8479 - val_loss: 0.9913 - val_accuracy: 0.7930\n",
      "Epoch 6/20\n",
      "16/16 [==============================] - 0s 11ms/step - loss: 0.5438 - accuracy: 0.8817 - val_loss: 0.9520 - val_accuracy: 0.8120\n",
      "Epoch 7/20\n",
      "16/16 [==============================] - 0s 11ms/step - loss: 0.4245 - accuracy: 0.9082 - val_loss: 0.9455 - val_accuracy: 0.8040\n",
      "Epoch 8/20\n",
      "16/16 [==============================] - 0s 11ms/step - loss: 0.3335 - accuracy: 0.9286 - val_loss: 1.0711 - val_accuracy: 0.7810\n",
      "Epoch 9/20\n",
      "16/16 [==============================] - 0s 11ms/step - loss: 0.2759 - accuracy: 0.9378 - val_loss: 0.9810 - val_accuracy: 0.8060\n",
      "Epoch 10/20\n",
      "16/16 [==============================] - 0s 25ms/step - loss: 0.2282 - accuracy: 0.9478 - val_loss: 1.0368 - val_accuracy: 0.8080\n",
      "Epoch 11/20\n",
      "16/16 [==============================] - 0s 12ms/step - loss: 0.1876 - accuracy: 0.9579 - val_loss: 1.0826 - val_accuracy: 0.7960\n",
      "Epoch 12/20\n",
      "16/16 [==============================] - 0s 11ms/step - loss: 0.1747 - accuracy: 0.9521 - val_loss: 1.0462 - val_accuracy: 0.8050\n",
      "Epoch 13/20\n",
      "16/16 [==============================] - 0s 11ms/step - loss: 0.1556 - accuracy: 0.9581 - val_loss: 1.0592 - val_accuracy: 0.8030\n",
      "Epoch 14/20\n",
      "16/16 [==============================] - 0s 11ms/step - loss: 0.1437 - accuracy: 0.9583 - val_loss: 1.1027 - val_accuracy: 0.7960\n",
      "Epoch 15/20\n",
      "16/16 [==============================] - 0s 12ms/step - loss: 0.1263 - accuracy: 0.9634 - val_loss: 1.1060 - val_accuracy: 0.8060\n",
      "Epoch 16/20\n",
      "16/16 [==============================] - 0s 11ms/step - loss: 0.1332 - accuracy: 0.9602 - val_loss: 1.1125 - val_accuracy: 0.8080\n",
      "Epoch 17/20\n",
      "16/16 [==============================] - 0s 11ms/step - loss: 0.1153 - accuracy: 0.9626 - val_loss: 1.1691 - val_accuracy: 0.7980\n",
      "Epoch 18/20\n",
      "16/16 [==============================] - 0s 11ms/step - loss: 0.1088 - accuracy: 0.9612 - val_loss: 1.2128 - val_accuracy: 0.8010\n",
      "Epoch 19/20\n",
      "16/16 [==============================] - 0s 11ms/step - loss: 0.1105 - accuracy: 0.9622 - val_loss: 1.2010 - val_accuracy: 0.7910\n",
      "Epoch 20/20\n",
      "16/16 [==============================] - 0s 12ms/step - loss: 0.1015 - accuracy: 0.9638 - val_loss: 1.3225 - val_accuracy: 0.7790\n"
     ]
    }
   ],
   "source": [
    "history = model.fit(partial_x_train, partial_y_train,\n",
    "                   epochs=20, batch_size=512, validation_data=(x_val, y_val))"
   ]
  },
  {
   "cell_type": "code",
   "execution_count": 50,
   "metadata": {},
   "outputs": [
    {
     "data": {
      "image/png": "[encoded data removed]",
      "text/plain": [
       "<Figure size 432x288 with 1 Axes>"
      ]
     },
     "metadata": {
      "needs_background": "light"
     },
     "output_type": "display_data"
    }
   ],
   "source": [
    "import matplotlib.pyplot as plt\n",
    "\n",
    "loss = history.history['loss']\n",
    "val_loss = history.history['val_loss']\n",
    "\n",
    "epochs = range(1, len(loss) + 1)\n",
    "\n",
    "plt.plot(epochs, loss, 'bo', label='Training loss')\n",
    "plt.plot(epochs, val_loss, 'b', label='Validation loss')\n",
    "plt.title('Training and validation loss')\n",
    "plt.xlabel('Epochs')\n",
    "plt.ylabel('Loss')\n",
    "plt.legend()\n",
    "\n",
    "plt.show()"
   ]
  },
  {
   "cell_type": "code",
   "execution_count": 51,
   "metadata": {},
   "outputs": [
    {
     "data": {
      "image/png": "[encoded data removed]",
      "text/plain": [
       "<Figure size 432x288 with 1 Axes>"
      ]
     },
     "metadata": {
      "needs_background": "light"
     },
     "output_type": "display_data"
    }
   ],
   "source": [
    "plt.clf()\n",
    "\n",
    "acc = history.history['accuracy']\n",
    "val_acc = history.history['val_accuracy']\n",
    "\n",
    "epochs = range(1, len(loss) + 1)\n",
    "\n",
    "plt.plot(epochs, acc, 'bo', label='Training accuracy')\n",
    "plt.plot(epochs, val_acc, 'b', label='Validation accuracy')\n",
    "plt.title('Training and validation accuracy')\n",
    "plt.xlabel('Epochs')\n",
    "plt.ylabel('Loss')\n",
    "plt.legend()\n",
    "\n",
    "plt.show()"
   ]
  },
  {
   "cell_type": "code",
   "execution_count": 30,
   "metadata": {},
   "outputs": [
    {
     "name": "stdout",
     "output_type": "stream",
     "text": [
      "Epoch 1/9\n",
      "16/16 [==============================] - 1s 23ms/step - loss: 3.2356 - accuracy: 0.3819 - val_loss: 1.7536 - val_accuracy: 0.6560\n",
      "Epoch 2/9\n",
      "16/16 [==============================] - 0s 11ms/step - loss: 1.5188 - accuracy: 0.7071 - val_loss: 1.2941 - val_accuracy: 0.7210\n",
      "Epoch 3/9\n",
      "16/16 [==============================] - 0s 11ms/step - loss: 1.0675 - accuracy: 0.7774 - val_loss: 1.1232 - val_accuracy: 0.7690\n",
      "Epoch 4/9\n",
      "16/16 [==============================] - 0s 12ms/step - loss: 0.8375 - accuracy: 0.8241 - val_loss: 1.0340 - val_accuracy: 0.7800\n",
      "Epoch 5/9\n",
      "16/16 [==============================] - 0s 11ms/step - loss: 0.6718 - accuracy: 0.8635 - val_loss: 0.9984 - val_accuracy: 0.7870\n",
      "Epoch 6/9\n",
      "16/16 [==============================] - 0s 11ms/step - loss: 0.5305 - accuracy: 0.8905 - val_loss: 0.9482 - val_accuracy: 0.8090\n",
      "Epoch 7/9\n",
      "16/16 [==============================] - 0s 11ms/step - loss: 0.4455 - accuracy: 0.9049 - val_loss: 0.8983 - val_accuracy: 0.8160\n",
      "Epoch 8/9\n",
      "16/16 [==============================] - 0s 12ms/step - loss: 0.3406 - accuracy: 0.9297 - val_loss: 0.8948 - val_accuracy: 0.8150\n",
      "Epoch 9/9\n",
      "16/16 [==============================] - 0s 11ms/step - loss: 0.2924 - accuracy: 0.9402 - val_loss: 0.9973 - val_accuracy: 0.7950\n",
      "71/71 [==============================] - 0s 2ms/step - loss: 1.0630 - accuracy: 0.7711\n"
     ]
    },
    {
     "data": {
      "text/plain": [
       "[1.0630474090576172, 0.771148681640625]"
      ]
     },
     "execution_count": 30,
     "metadata": {},
     "output_type": "execute_result"
    }
   ],
   "source": [
    "model = models.Sequential()\n",
    "model.add(layers.Dense(64, activation='relu', input_shape=(10000,)))\n",
    "model.add(layers.Dense(64, activation='relu'))\n",
    "model.add(layers.Dense(46, activation='softmax'))\n",
    "\n",
    "model.compile(optimizer='rmsprop', loss='categorical_crossentropy', metrics=['accuracy'])\n",
    "\n",
    "model.fit(partial_x_train, partial_y_train,\n",
    "                   epochs=9, batch_size=512, validation_data=(x_val, y_val))\n",
    "\n",
    "results = model.evaluate(x_test, one_hot_test_labels)\n",
    "\n",
    "results"
   ]
  },
  {
   "cell_type": "code",
   "execution_count": 31,
   "metadata": {},
   "outputs": [
    {
     "data": {
      "text/plain": [
       "3"
      ]
     },
     "execution_count": 31,
     "metadata": {},
     "output_type": "execute_result"
    }
   ],
   "source": [
    "predictions = model.predict(x_test)\n",
    "\n",
    "np.argmax(predictions[0])"
   ]
  },
  {
   "cell_type": "code",
   "execution_count": 32,
   "metadata": {},
   "outputs": [
    {
     "data": {
      "text/plain": [
       "array([4.0500279e-05, 6.3129002e-05, 3.0936593e-07, 9.8567998e-01,\n",
       "       1.1281171e-02, 9.3375138e-06, 6.5551417e-06, 1.0512689e-06,\n",
       "       5.5586017e-04, 2.6888203e-05, 2.8174011e-06, 1.3333514e-04,\n",
       "       1.9434813e-04, 5.5498158e-06, 1.3492853e-05, 1.6574773e-05,\n",
       "       4.7309339e-04, 5.8892445e-05, 1.7596923e-05, 2.7471071e-04,\n",
       "       2.4612344e-04, 1.1788788e-04, 4.6523601e-07, 8.4933003e-05,\n",
       "       2.1619931e-07, 2.5975620e-04, 1.0920808e-06, 1.4183892e-05,\n",
       "       1.1834572e-05, 4.4641369e-05, 2.2838924e-05, 2.6259830e-05,\n",
       "       5.2584255e-06, 1.9624638e-06, 2.7142749e-05, 3.4878929e-06,\n",
       "       1.8191725e-04, 7.9497295e-06, 1.8070239e-06, 2.8002243e-05,\n",
       "       6.5213085e-06, 4.2913867e-05, 2.1211481e-06, 3.8739236e-06,\n",
       "       8.9446228e-09, 1.4665998e-06], dtype=float32)"
      ]
     },
     "execution_count": 32,
     "metadata": {},
     "output_type": "execute_result"
    }
   ],
   "source": [
    "predictions[0]"
   ]
  }
 ],
 "metadata": {
  "kernelspec": {
   "display_name": "Python 3",
   "language": "python",
   "name": "python3"
  },
  "language_info": {
   "codemirror_mode": {
    "name": "ipython",
    "version": 3
   },
   "file_extension": ".py",
   "mimetype": "text/x-python",
   "name": "python",
   "nbconvert_exporter": "python",
   "pygments_lexer": "ipython3",
   "version": "3.6.9"
  }
 },
 "nbformat": 4,
 "nbformat_minor": 2
}
