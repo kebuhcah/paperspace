{
 "cells": [
  {
   "cell_type": "code",
   "execution_count": 7,
   "metadata": {},
   "outputs": [
    {
     "ename": "FileExistsError",
     "evalue": "[Errno 17] File exists: '/root/cats_and_dogs_small'",
     "output_type": "error",
     "traceback": [
      "\u001b[0;31m---------------------------------------------------------------------------\u001b[0m",
      "\u001b[0;31mFileExistsError\u001b[0m                           Traceback (most recent call last)",
      "\u001b[0;32m<ipython-input-7-0ea5b7504286>\u001b[0m in \u001b[0;36m<module>\u001b[0;34m\u001b[0m\n\u001b[1;32m     24\u001b[0m \u001b[0;34m\u001b[0m\u001b[0m\n\u001b[1;32m     25\u001b[0m \u001b[0;34m\u001b[0m\u001b[0m\n\u001b[0;32m---> 26\u001b[0;31m \u001b[0mos\u001b[0m\u001b[0;34m.\u001b[0m\u001b[0mmkdir\u001b[0m\u001b[0;34m(\u001b[0m\u001b[0mbase_dir\u001b[0m\u001b[0;34m)\u001b[0m\u001b[0;34m\u001b[0m\u001b[0;34m\u001b[0m\u001b[0m\n\u001b[0m\u001b[1;32m     27\u001b[0m \u001b[0mos\u001b[0m\u001b[0;34m.\u001b[0m\u001b[0mmkdir\u001b[0m\u001b[0;34m(\u001b[0m\u001b[0mtrain_dir\u001b[0m\u001b[0;34m)\u001b[0m\u001b[0;34m\u001b[0m\u001b[0;34m\u001b[0m\u001b[0m\n\u001b[1;32m     28\u001b[0m \u001b[0mos\u001b[0m\u001b[0;34m.\u001b[0m\u001b[0mmkdir\u001b[0m\u001b[0;34m(\u001b[0m\u001b[0mvalidation_dir\u001b[0m\u001b[0;34m)\u001b[0m\u001b[0;34m\u001b[0m\u001b[0;34m\u001b[0m\u001b[0m\n",
      "\u001b[0;31mFileExistsError\u001b[0m: [Errno 17] File exists: '/root/cats_and_dogs_small'"
     ]
    }
   ],
   "source": [
    "#pip install kaggle\n",
    "#pip install scipy\n",
    "# make sure /root/.kaggle/kaggle.json is there\n",
    "# kaggle competitions download -c dogs-vs-cats\n",
    "\n",
    "import os, shutil\n",
    "\n",
    "original_dataset_dir = '/root/train'\n",
    "\n",
    "base_dir = '/root/cats_and_dogs_small'\n",
    "\n",
    "train_dir = os.path.join(base_dir, 'train')\n",
    "validation_dir = os.path.join(base_dir, 'validation')\n",
    "test_dir = os.path.join(base_dir, 'test')\n",
    "\n",
    "train_cats_dir = os.path.join(train_dir, 'cats')\n",
    "train_dogs_dir = os.path.join(train_dir, 'dogs')\n",
    "\n",
    "validation_cats_dir = os.path.join(validation_dir, 'cats')\n",
    "validation_dogs_dir = os.path.join(validation_dir, 'dogs')\n",
    "\n",
    "test_cats_dir = os.path.join(test_dir, 'cats')\n",
    "test_dogs_dir = os.path.join(test_dir, 'dogs')\n",
    "\n",
    "\n",
    "os.mkdir(base_dir)\n",
    "os.mkdir(train_dir)\n",
    "os.mkdir(validation_dir)\n",
    "os.mkdir(test_dir)\n",
    "\n",
    "os.mkdir(train_cats_dir)\n",
    "os.mkdir(train_dogs_dir)\n",
    "\n",
    "os.mkdir(validation_cats_dir)\n",
    "os.mkdir(validation_dogs_dir)\n",
    "\n",
    "os.mkdir(test_cats_dir)\n",
    "os.mkdir(test_dogs_dir)\n",
    "\n",
    "fnames = ['cat.{}.jpg'.format(i) for i in range(1000)]\n",
    "for fname in fnames:\n",
    "    src = os.path.join(original_dataset_dir, fname)\n",
    "    dst = os.path.join(train_cats_dir, fname)\n",
    "    shutil.copyfile(src, dst)\n",
    "    \n",
    "fnames = ['cat.{}.jpg'.format(i) for i in range(1000, 1500)]\n",
    "for fname in fnames:\n",
    "    src = os.path.join(original_dataset_dir, fname)\n",
    "    dst = os.path.join(validation_cats_dir, fname)\n",
    "    shutil.copyfile(src, dst)\n",
    "    \n",
    "fnames = ['cat.{}.jpg'.format(i) for i in range(1500, 2000)]\n",
    "for fname in fnames:\n",
    "    src = os.path.join(original_dataset_dir, fname)\n",
    "    dst = os.path.join(test_cats_dir, fname)\n",
    "    shutil.copyfile(src, dst)\n",
    "    \n",
    "    fnames = ['dog.{}.jpg'.format(i) for i in range(1000)]\n",
    "for fname in fnames:\n",
    "    src = os.path.join(original_dataset_dir, fname)\n",
    "    dst = os.path.join(train_dogs_dir, fname)\n",
    "    shutil.copyfile(src, dst)\n",
    "    \n",
    "fnames = ['dog.{}.jpg'.format(i) for i in range(1000, 1500)]\n",
    "for fname in fnames:\n",
    "    src = os.path.join(original_dataset_dir, fname)\n",
    "    dst = os.path.join(validation_dogs_dir, fname)\n",
    "    shutil.copyfile(src, dst)\n",
    "    \n",
    "fnames = ['dog.{}.jpg'.format(i) for i in range(1500, 2000)]\n",
    "for fname in fnames:\n",
    "    src = os.path.join(original_dataset_dir, fname)\n",
    "    dst = os.path.join(test_dogs_dir, fname)\n",
    "    shutil.copyfile(src, dst)"
   ]
  },
  {
   "cell_type": "code",
   "execution_count": 2,
   "metadata": {},
   "outputs": [
    {
     "name": "stdout",
     "output_type": "stream",
     "text": [
      "Model: \"sequential\"\n",
      "_________________________________________________________________\n",
      "Layer (type)                 Output Shape              Param #   \n",
      "=================================================================\n",
      "conv2d (Conv2D)              (None, 148, 148, 32)      896       \n",
      "_________________________________________________________________\n",
      "max_pooling2d (MaxPooling2D) (None, 74, 74, 32)        0         \n",
      "_________________________________________________________________\n",
      "conv2d_1 (Conv2D)            (None, 72, 72, 64)        18496     \n",
      "_________________________________________________________________\n",
      "max_pooling2d_1 (MaxPooling2 (None, 36, 36, 64)        0         \n",
      "_________________________________________________________________\n",
      "conv2d_2 (Conv2D)            (None, 34, 34, 128)       73856     \n",
      "_________________________________________________________________\n",
      "max_pooling2d_2 (MaxPooling2 (None, 17, 17, 128)       0         \n",
      "_________________________________________________________________\n",
      "conv2d_3 (Conv2D)            (None, 15, 15, 128)       147584    \n",
      "_________________________________________________________________\n",
      "max_pooling2d_3 (MaxPooling2 (None, 7, 7, 128)         0         \n",
      "_________________________________________________________________\n",
      "flatten (Flatten)            (None, 6272)              0         \n",
      "_________________________________________________________________\n",
      "dense (Dense)                (None, 512)               3211776   \n",
      "_________________________________________________________________\n",
      "dense_1 (Dense)              (None, 1)                 513       \n",
      "=================================================================\n",
      "Total params: 3,453,121\n",
      "Trainable params: 3,453,121\n",
      "Non-trainable params: 0\n",
      "_________________________________________________________________\n"
     ]
    }
   ],
   "source": [
    "from tensorflow.keras import models\n",
    "from tensorflow.keras import layers\n",
    "\n",
    "model = models.Sequential()\n",
    "model.add(layers.Conv2D(32, (3, 3), activation='relu', input_shape=(150, 150, 3)))\n",
    "model.add(layers.MaxPooling2D((2, 2)))\n",
    "model.add(layers.Conv2D(64, (3, 3), activation='relu'))\n",
    "model.add(layers.MaxPooling2D((2, 2)))\n",
    "model.add(layers.Conv2D(128, (3, 3), activation='relu'))\n",
    "model.add(layers.MaxPooling2D((2, 2)))\n",
    "model.add(layers.Conv2D(128, (3, 3), activation='relu'))\n",
    "model.add(layers.MaxPooling2D((2, 2)))\n",
    "model.add(layers.Flatten())\n",
    "model.add(layers.Dense(512, activation='relu'))\n",
    "model.add(layers.Dense(1, activation='sigmoid'))\n",
    "\n",
    "model.summary()"
   ]
  },
  {
   "cell_type": "code",
   "execution_count": 3,
   "metadata": {},
   "outputs": [],
   "source": [
    "from tensorflow.keras import optimizers\n",
    "\n",
    "model.compile(loss='binary_crossentropy', optimizer=optimizers.RMSprop(lr=1e-4), metrics=['acc'])"
   ]
  },
  {
   "cell_type": "code",
   "execution_count": 8,
   "metadata": {},
   "outputs": [
    {
     "name": "stdout",
     "output_type": "stream",
     "text": [
      "Found 2000 images belonging to 2 classes.\n",
      "Found 1000 images belonging to 2 classes.\n"
     ]
    }
   ],
   "source": [
    "from tensorflow.keras.preprocessing.image import ImageDataGenerator\n",
    "\n",
    "train_datagen = ImageDataGenerator(rescale=1./255)\n",
    "test_datagen = ImageDataGenerator(rescale=1./255)\n",
    "\n",
    "train_generator = train_datagen.flow_from_directory(train_dir, target_size=(150, 150), batch_size=20, class_mode='binary')\n",
    "validation_generator = test_datagen.flow_from_directory(validation_dir, target_size=(150, 150), batch_size=20, class_mode='binary')"
   ]
  },
  {
   "cell_type": "code",
   "execution_count": 9,
   "metadata": {},
   "outputs": [
    {
     "name": "stdout",
     "output_type": "stream",
     "text": [
      "data batch shape: (20, 150, 150, 3)\n",
      "labels batch shape: (20,)\n"
     ]
    }
   ],
   "source": [
    "for data_batch, labels_batch in train_generator:\n",
    "    print('data batch shape:', data_batch.shape)\n",
    "    print('labels batch shape:', labels_batch.shape)\n",
    "    break"
   ]
  },
  {
   "cell_type": "code",
   "execution_count": 10,
   "metadata": {},
   "outputs": [
    {
     "name": "stderr",
     "output_type": "stream",
     "text": [
      "/usr/local/lib/python3.6/dist-packages/tensorflow/python/keras/engine/training.py:1844: UserWarning: `Model.fit_generator` is deprecated and will be removed in a future version. Please use `Model.fit`, which supports generators.\n",
      "  warnings.warn('`Model.fit_generator` is deprecated and '\n"
     ]
    },
    {
     "name": "stdout",
     "output_type": "stream",
     "text": [
      "Epoch 1/30\n",
      "100/100 [==============================] - 15s 77ms/step - loss: 0.6924 - acc: 0.5384 - val_loss: 0.6717 - val_acc: 0.6070\n",
      "Epoch 2/30\n",
      "100/100 [==============================] - 7s 73ms/step - loss: 0.6658 - acc: 0.6104 - val_loss: 0.6522 - val_acc: 0.6030\n",
      "Epoch 3/30\n",
      "100/100 [==============================] - 7s 73ms/step - loss: 0.6242 - acc: 0.6647 - val_loss: 0.6365 - val_acc: 0.6220\n",
      "Epoch 4/30\n",
      "100/100 [==============================] - 7s 73ms/step - loss: 0.5960 - acc: 0.6601 - val_loss: 0.6150 - val_acc: 0.6480\n",
      "Epoch 5/30\n",
      "100/100 [==============================] - 7s 73ms/step - loss: 0.5383 - acc: 0.7315 - val_loss: 0.5813 - val_acc: 0.6940\n",
      "Epoch 6/30\n",
      "100/100 [==============================] - 7s 74ms/step - loss: 0.5115 - acc: 0.7578 - val_loss: 0.6173 - val_acc: 0.6670\n",
      "Epoch 7/30\n",
      "100/100 [==============================] - 7s 74ms/step - loss: 0.4979 - acc: 0.7666 - val_loss: 0.5700 - val_acc: 0.6990\n",
      "Epoch 8/30\n",
      "100/100 [==============================] - 7s 73ms/step - loss: 0.4613 - acc: 0.7795 - val_loss: 0.5586 - val_acc: 0.7010\n",
      "Epoch 9/30\n",
      "100/100 [==============================] - 7s 72ms/step - loss: 0.4217 - acc: 0.8154 - val_loss: 0.5487 - val_acc: 0.7150\n",
      "Epoch 10/30\n",
      "100/100 [==============================] - 7s 73ms/step - loss: 0.4103 - acc: 0.8300 - val_loss: 0.5434 - val_acc: 0.7190\n",
      "Epoch 11/30\n",
      "100/100 [==============================] - 7s 73ms/step - loss: 0.3796 - acc: 0.8418 - val_loss: 0.5725 - val_acc: 0.7020\n",
      "Epoch 12/30\n",
      "100/100 [==============================] - 7s 73ms/step - loss: 0.3580 - acc: 0.8551 - val_loss: 0.5622 - val_acc: 0.7330\n",
      "Epoch 13/30\n",
      "100/100 [==============================] - 7s 74ms/step - loss: 0.3241 - acc: 0.8654 - val_loss: 0.5914 - val_acc: 0.7130\n",
      "Epoch 14/30\n",
      "100/100 [==============================] - 7s 74ms/step - loss: 0.3217 - acc: 0.8648 - val_loss: 0.6082 - val_acc: 0.7220\n",
      "Epoch 15/30\n",
      "100/100 [==============================] - 7s 73ms/step - loss: 0.2818 - acc: 0.8916 - val_loss: 0.6099 - val_acc: 0.7140\n",
      "Epoch 16/30\n",
      "100/100 [==============================] - 7s 73ms/step - loss: 0.2625 - acc: 0.8897 - val_loss: 0.5872 - val_acc: 0.7340\n",
      "Epoch 17/30\n",
      "100/100 [==============================] - 7s 73ms/step - loss: 0.2495 - acc: 0.8971 - val_loss: 0.6801 - val_acc: 0.7120\n",
      "Epoch 18/30\n",
      "100/100 [==============================] - 7s 73ms/step - loss: 0.2191 - acc: 0.9100 - val_loss: 0.6632 - val_acc: 0.7130\n",
      "Epoch 19/30\n",
      "100/100 [==============================] - 7s 73ms/step - loss: 0.2050 - acc: 0.9195 - val_loss: 0.6446 - val_acc: 0.7310\n",
      "Epoch 20/30\n",
      "100/100 [==============================] - 7s 72ms/step - loss: 0.1811 - acc: 0.9355 - val_loss: 0.6720 - val_acc: 0.7350\n",
      "Epoch 21/30\n",
      "100/100 [==============================] - 7s 73ms/step - loss: 0.1661 - acc: 0.9390 - val_loss: 0.6926 - val_acc: 0.7370\n",
      "Epoch 22/30\n",
      "100/100 [==============================] - 7s 74ms/step - loss: 0.1316 - acc: 0.9642 - val_loss: 0.7183 - val_acc: 0.7300\n",
      "Epoch 23/30\n",
      "100/100 [==============================] - 7s 73ms/step - loss: 0.1221 - acc: 0.9594 - val_loss: 0.7608 - val_acc: 0.7350\n",
      "Epoch 24/30\n",
      "100/100 [==============================] - 7s 73ms/step - loss: 0.1032 - acc: 0.9653 - val_loss: 0.7647 - val_acc: 0.7300\n",
      "Epoch 25/30\n",
      "100/100 [==============================] - 7s 73ms/step - loss: 0.0933 - acc: 0.9768 - val_loss: 0.7974 - val_acc: 0.7390\n",
      "Epoch 26/30\n",
      "100/100 [==============================] - 7s 73ms/step - loss: 0.0727 - acc: 0.9768 - val_loss: 0.8295 - val_acc: 0.7410\n",
      "Epoch 27/30\n",
      "100/100 [==============================] - 7s 73ms/step - loss: 0.0664 - acc: 0.9797 - val_loss: 0.9240 - val_acc: 0.7420\n",
      "Epoch 28/30\n",
      "100/100 [==============================] - 7s 73ms/step - loss: 0.0547 - acc: 0.9869 - val_loss: 0.8975 - val_acc: 0.7410\n",
      "Epoch 29/30\n",
      "100/100 [==============================] - 7s 74ms/step - loss: 0.0497 - acc: 0.9908 - val_loss: 0.9475 - val_acc: 0.7290\n",
      "Epoch 30/30\n",
      "100/100 [==============================] - 7s 74ms/step - loss: 0.0391 - acc: 0.9920 - val_loss: 1.0539 - val_acc: 0.7270\n"
     ]
    }
   ],
   "source": [
    "history = model.fit(train_generator, steps_per_epoch=100, epochs=30, \n",
    "                              validation_data=validation_generator, validation_steps=50)"
   ]
  },
  {
   "cell_type": "code",
   "execution_count": null,
   "metadata": {},
   "outputs": [],
   "source": []
  }
 ],
 "metadata": {
  "kernelspec": {
   "display_name": "Python 3",
   "language": "python",
   "name": "python3"
  },
  "language_info": {
   "codemirror_mode": {
    "name": "ipython",
    "version": 3
   },
   "file_extension": ".py",
   "mimetype": "text/x-python",
   "name": "python",
   "nbconvert_exporter": "python",
   "pygments_lexer": "ipython3",
   "version": "3.6.9"
  }
 },
 "nbformat": 4,
 "nbformat_minor": 2
}
